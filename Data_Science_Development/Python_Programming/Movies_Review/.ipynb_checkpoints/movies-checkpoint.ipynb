{
 "cells": [
  {
   "cell_type": "markdown",
   "id": "bf7728bd",
   "metadata": {},
   "source": [
    "# Below is how I approach the Movie project\n",
    "### 1. Frame the Problem and Look at the Big Picture\n",
    "1. Define the objective in business terms.\n",
    "    - There are two objectives namely knowing the projected revenue and customer interests.\n",
    "2. How will your solution be used?\n",
    "    - Solution will be used by companies to understand what profits to expect based on various factors.\n",
    "    - Movie lovers can get recommendation of movies based on movies they've seen.\n",
    "3. What are the current solutions/workarounds (if any)?\n",
    "    - Currently no solutions as I'm building from scratch.\n",
    "4. How should you frame this problem (supervised/unsupervised,online/offline, etc.)?\n",
    "    - Supervised and online.\n",
    "5. How should performance be measured?\n",
    "    - For revenue will use rsme.\n",
    "    - For recommender system will figure out a performance measure.\n",
    "6. Is the performance measure aligned with the business objective?\n",
    "    - Yes.\n",
    "7. What would be the minimum performance needed to reach the business objective?\n",
    "    - For revenue a score of 94% is acceptable. \n",
    "    - For recommender system will figure out but something similar to revenue score. \n",
    "8. What are comparable problems? Can you reuse experience or tools?\n",
    "    - Assume none exist.\n",
    "9. Is human expertise available?\n",
    "    - Assume no.\n",
    "10. How would you solve the problem manually?\n",
    "    - For revenue talking to production managers and people in the movie industry.\n",
    "    - For recommendor asking random people what other movies they love after identifying a base of movies they love.\n",
    "11. List the assumptions you (or others) have made so far.\n",
    "    - None identified at this point. \n",
    "12. Verify assumptions if possible.\n",
    "    - None to verify. "
   ]
  },
  {
   "cell_type": "code",
   "execution_count": null,
   "id": "44f20223",
   "metadata": {},
   "outputs": [],
   "source": [
    "# Deleted all the previous code I had since I realized that using data from someone else makes the work harder.\n",
    "# Other reason is that I can easily get the same data plus I noted some inconsistencies with the previous data during EDA. "
   ]
  }
 ],
 "metadata": {
  "kernelspec": {
   "display_name": "Python 3 (ipykernel)",
   "language": "python",
   "name": "python3"
  },
  "language_info": {
   "codemirror_mode": {
    "name": "ipython",
    "version": 3
   },
   "file_extension": ".py",
   "mimetype": "text/x-python",
   "name": "python",
   "nbconvert_exporter": "python",
   "pygments_lexer": "ipython3",
   "version": "3.11.5"
  }
 },
 "nbformat": 4,
 "nbformat_minor": 5
}
