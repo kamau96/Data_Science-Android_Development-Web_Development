{
 "cells": [
  {
   "cell_type": "markdown",
   "id": "bf7728bd",
   "metadata": {},
   "source": [
    "# Below is how I approach the Movie project\n",
    "### 1. Frame the Problem and Look at the Big Picture\n",
    "1. Define the objective in business terms.\n",
    "    - There are two objectives namely:\n",
    "        1. Knowing the projected revenue.\n",
    "        2. Determinig customer interests.\n",
    "2. How will your solution be used?\n",
    "    - By companies trying to understand their profits.\n",
    "    - Movie lovers can get recommendation of movies.\n",
    "3. What are the current solutions/workarounds (if any)?\n",
    "    - Can get data from TMDB and Rotten tomatoes (currently use kaggle data).\n",
    "    - For data analysis and machine learning assume no solutions.\n",
    "4. How should you frame this problem (supervised/unsupervised,online/offline, etc.)?\n",
    "    - Supervised and batch learning.\n",
    "        NB: online learning might be possible. Will experiment at end of project.\n",
    "5. How should performance be measured?\n",
    "    - For revenue predictions RSME will be used.\n",
    "    - For recommender system F1-score will be used.\n",
    "        NB: For both models will experiment other performance measures. \n",
    "6. Is the performance measure aligned with the business objective?\n",
    "    - For current business needs yes.\n",
    "    - However, if this is a real world scenario I believe not.\n",
    "7. What would be the minimum performance needed to reach the business objective?\n",
    "    - For revenue a score of 94% is acceptable. \n",
    "    - For recommender system generating high recall score is preferable. \n",
    "8. What are comparable problems? Can you reuse experience or tools?\n",
    "    - Assume none exist.\n",
    "9. Is human expertise available?\n",
    "    - Assume no.\n",
    "10. How would you solve the problem manually?\n",
    "    - For revenue talking to people in movie industry.\n",
    "    - For recommendor asking random people.\n",
    "11. List the assumptions you (or others) have made so far.\n",
    "    - None identified at this point. \n",
    "12. Verify assumptions if possible.\n",
    "    - None to verify. "
   ]
  },
  {
   "cell_type": "code",
   "execution_count": 1,
   "id": "44f20223",
   "metadata": {},
   "outputs": [],
   "source": [
    "# Deleted all the previous code due to data.\n",
    "# However, decided on using the same data for now.\n",
    "# Fetching my own data a bit hard and will deviate me from main goal.\n",
    "# Below is the python package should I want to use my own data.\n",
    "# https://github.com/celiao/tmdbsimple/blob/master/tmdbsimple/movies.py"
   ]
  },
  {
   "cell_type": "code",
   "execution_count": 2,
   "id": "b8ba7e36",
   "metadata": {},
   "outputs": [],
   "source": [
    "# EDA libraries.\n",
    "import pandas as pd\n",
    "import numpy as np\n",
    "import matplotlib.pyplot as plt\n",
    "import seaborn as sns"
   ]
  },
  {
   "cell_type": "code",
   "execution_count": 3,
   "id": "c45ece87",
   "metadata": {},
   "outputs": [],
   "source": [
    "# setting column view maximum.\n",
    "pd.set_option(\"display.max_colwidth\", None)"
   ]
  },
  {
   "cell_type": "code",
   "execution_count": 7,
   "id": "8c246c3b",
   "metadata": {},
   "outputs": [],
   "source": [
    "# load data.\n",
    "movies=pd.read_csv(\"../../../Data/archive/movies_metadata.csv\", low_memory=False)"
   ]
  },
  {
   "cell_type": "code",
   "execution_count": 8,
   "id": "376c98f0",
   "metadata": {},
   "outputs": [],
   "source": [
    "# seperate data into train and test.\n",
    "# this is to avoid data snooping.\n",
    "from sklearn.model_selection import train_test_split\n",
    "train_set, test_set = train_test_split(movies, test_size=0.2, random_state=34)"
   ]
  },
  {
   "cell_type": "code",
   "execution_count": 9,
   "id": "bffa603a",
   "metadata": {},
   "outputs": [],
   "source": [
    "# use train_set for EDA and ML.\n",
    "movies = train_set"
   ]
  },
  {
   "cell_type": "code",
   "execution_count": 10,
   "id": "c763778c",
   "metadata": {},
   "outputs": [
    {
     "name": "stdout",
     "output_type": "stream",
     "text": [
      "<class 'pandas.core.frame.DataFrame'>\n",
      "Index: 36372 entries, 36393 to 11681\n",
      "Data columns (total 24 columns):\n",
      " #   Column                 Non-Null Count  Dtype  \n",
      "---  ------                 --------------  -----  \n",
      " 0   adult                  36372 non-null  object \n",
      " 1   belongs_to_collection  3600 non-null   object \n",
      " 2   budget                 36372 non-null  object \n",
      " 3   genres                 36372 non-null  object \n",
      " 4   homepage               6239 non-null   object \n",
      " 5   id                     36372 non-null  object \n",
      " 6   imdb_id                36357 non-null  object \n",
      " 7   original_language      36361 non-null  object \n",
      " 8   original_title         36372 non-null  object \n",
      " 9   overview               35620 non-null  object \n",
      " 10  popularity             36368 non-null  object \n",
      " 11  poster_path            36054 non-null  object \n",
      " 12  production_companies   36370 non-null  object \n",
      " 13  production_countries   36370 non-null  object \n",
      " 14  release_date           36300 non-null  object \n",
      " 15  revenue                36367 non-null  float64\n",
      " 16  runtime                36159 non-null  float64\n",
      " 17  spoken_languages       36367 non-null  object \n",
      " 18  status                 36296 non-null  object \n",
      " 19  tagline                16309 non-null  object \n",
      " 20  title                  36367 non-null  object \n",
      " 21  video                  36367 non-null  object \n",
      " 22  vote_average           36367 non-null  float64\n",
      " 23  vote_count             36367 non-null  float64\n",
      "dtypes: float64(4), object(20)\n",
      "memory usage: 6.9+ MB\n"
     ]
    }
   ],
   "source": [
    "movies.info()"
   ]
  },
  {
   "cell_type": "code",
   "execution_count": 122,
   "id": "2a5e4408",
   "metadata": {},
   "outputs": [],
   "source": [
    "# function to count dtypes per column.\n",
    "def count_dtypes(data):\n",
    "    return type(data)"
   ]
  },
  {
   "cell_type": "code",
   "execution_count": 123,
   "id": "0749d531",
   "metadata": {},
   "outputs": [],
   "source": [
    "# function to retrieve columns names with differing data types.\n",
    "# generates the count of data types in those columns.\n",
    "def multi_dtypes_columns(data):\n",
    "    data_arr = []\n",
    "    for col in data.columns:\n",
    "        data_types = data[col].apply(count_dtypes)\n",
    "        unique_data_types = set(data_types)\n",
    "        if len(unique_data_types) > 1:\n",
    "            val = (col, unique_data_types)\n",
    "            data_arr.append(val)\n",
    "    return np.array(data_arr)\n",
    "cols = multi_dtypes_columns(movies)"
   ]
  },
  {
   "cell_type": "code",
   "execution_count": 124,
   "id": "78ee7fec",
   "metadata": {},
   "outputs": [
    {
     "data": {
      "text/plain": [
       "array([['belongs_to_collection', {<class 'str'>, <class 'float'>}],\n",
       "       ['homepage', {<class 'str'>, <class 'float'>}],\n",
       "       ['imdb_id', {<class 'str'>, <class 'float'>}],\n",
       "       ['original_language', {<class 'str'>, <class 'float'>}],\n",
       "       ['overview', {<class 'str'>, <class 'float'>}],\n",
       "       ['popularity', {<class 'str'>, <class 'float'>}],\n",
       "       ['poster_path', {<class 'str'>, <class 'float'>}],\n",
       "       ['production_companies', {<class 'str'>, <class 'float'>}],\n",
       "       ['production_countries', {<class 'str'>, <class 'float'>}],\n",
       "       ['release_date', {<class 'str'>, <class 'float'>}],\n",
       "       ['spoken_languages', {<class 'str'>, <class 'float'>}],\n",
       "       ['status', {<class 'str'>, <class 'float'>}],\n",
       "       ['tagline', {<class 'str'>, <class 'float'>}],\n",
       "       ['title', {<class 'str'>, <class 'float'>}],\n",
       "       ['video', {<class 'bool'>, <class 'float'>}]], dtype=object)"
      ]
     },
     "execution_count": 124,
     "metadata": {},
     "output_type": "execute_result"
    }
   ],
   "source": [
    "cols"
   ]
  },
  {
   "cell_type": "code",
   "execution_count": 128,
   "id": "7d5c2959",
   "metadata": {},
   "outputs": [
    {
     "name": "stdout",
     "output_type": "stream",
     "text": [
      "<class 'pandas.core.frame.DataFrame'>\n",
      "Index: 36372 entries, 36393 to 11681\n",
      "Data columns (total 15 columns):\n",
      " #   Column                 Non-Null Count  Dtype \n",
      "---  ------                 --------------  ----- \n",
      " 0   belongs_to_collection  3600 non-null   object\n",
      " 1   homepage               6239 non-null   object\n",
      " 2   imdb_id                36357 non-null  object\n",
      " 3   original_language      36361 non-null  object\n",
      " 4   overview               35620 non-null  object\n",
      " 5   popularity             36368 non-null  object\n",
      " 6   poster_path            36054 non-null  object\n",
      " 7   production_companies   36370 non-null  object\n",
      " 8   production_countries   36370 non-null  object\n",
      " 9   release_date           36300 non-null  object\n",
      " 10  spoken_languages       36367 non-null  object\n",
      " 11  status                 36296 non-null  object\n",
      " 12  tagline                16309 non-null  object\n",
      " 13  title                  36367 non-null  object\n",
      " 14  video                  36367 non-null  object\n",
      "dtypes: object(15)\n",
      "memory usage: 4.4+ MB\n"
     ]
    }
   ],
   "source": [
    "# dataframe of columns with multiple data types.\n",
    "diff_dtypes_cols = movies[cols[:, 0]]\n",
    "diff_dtypes_cols.info()"
   ]
  },
  {
   "cell_type": "code",
   "execution_count": 136,
   "id": "6866f072",
   "metadata": {},
   "outputs": [],
   "source": [
    "# function to retrieve values based on value\n",
    "def type_to_value(data, data_type):\n",
    "    if type(data) == data_type:\n",
    "        return data"
   ]
  },
  {
   "cell_type": "code",
   "execution_count": 137,
   "id": "c35e7e6d",
   "metadata": {},
   "outputs": [
    {
     "ename": "TypeError",
     "evalue": "type_to_value() missing 1 required positional argument: 'data_type'",
     "output_type": "error",
     "traceback": [
      "\u001b[1;31m---------------------------------------------------------------------------\u001b[0m",
      "\u001b[1;31mTypeError\u001b[0m                                 Traceback (most recent call last)",
      "Cell \u001b[1;32mIn[137], line 13\u001b[0m\n\u001b[0;32m      7\u001b[0m             data[col]\u001b[38;5;241m.\u001b[39mapply(type_to_value(data_type))\n\u001b[0;32m      8\u001b[0m             \u001b[38;5;66;03m#data[col].apply(count_dtypes())\u001b[39;00m\n\u001b[1;32m---> 13\u001b[0m values_multi_cols(diff_dtypes_cols)\n",
      "Cell \u001b[1;32mIn[137], line 7\u001b[0m, in \u001b[0;36mvalues_multi_cols\u001b[1;34m(data)\u001b[0m\n\u001b[0;32m      5\u001b[0m col \u001b[38;5;241m=\u001b[39m cols[i, \u001b[38;5;241m0\u001b[39m]\n\u001b[0;32m      6\u001b[0m \u001b[38;5;28;01mfor\u001b[39;00m data_type \u001b[38;5;129;01min\u001b[39;00m cols[i, \u001b[38;5;241m1\u001b[39m]:\n\u001b[1;32m----> 7\u001b[0m     data[col]\u001b[38;5;241m.\u001b[39mapply(type_to_value(data_type))\n",
      "\u001b[1;31mTypeError\u001b[0m: type_to_value() missing 1 required positional argument: 'data_type'"
     ]
    }
   ],
   "source": [
    "# function to know the values from the different columns.\n",
    "# these columns are those with multiple data types.\n",
    "def values_multi_cols(data):\n",
    "    for i in range(len(data.columns)):\n",
    "        col = cols[i, 0]\n",
    "        for data_type in cols[i, 1]:\n",
    "            data[col].apply(type_to_value(data_type))\n",
    "            #data[col].apply(count_dtypes())\n",
    "    \n",
    "        \n",
    "            \n",
    "\n",
    "values_multi_cols(diff_dtypes_cols)"
   ]
  },
  {
   "cell_type": "code",
   "execution_count": null,
   "id": "2c01bd98",
   "metadata": {},
   "outputs": [],
   "source": []
  }
 ],
 "metadata": {
  "kernelspec": {
   "display_name": "Python 3 (ipykernel)",
   "language": "python",
   "name": "python3"
  },
  "language_info": {
   "codemirror_mode": {
    "name": "ipython",
    "version": 3
   },
   "file_extension": ".py",
   "mimetype": "text/x-python",
   "name": "python",
   "nbconvert_exporter": "python",
   "pygments_lexer": "ipython3",
   "version": "3.11.5"
  }
 },
 "nbformat": 4,
 "nbformat_minor": 5
}
