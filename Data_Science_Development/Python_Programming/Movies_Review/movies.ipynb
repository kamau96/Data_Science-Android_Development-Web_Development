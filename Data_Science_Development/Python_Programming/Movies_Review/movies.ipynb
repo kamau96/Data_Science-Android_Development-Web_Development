{
 "cells": [
  {
   "cell_type": "markdown",
   "id": "bf7728bd",
   "metadata": {},
   "source": [
    "# Below is how I approach the Movie project\n",
    "### 1. Frame the Problem and Look at the Big Picture\n",
    "1. Define the objective in business terms.\n",
    "    - There are two objectives namely knowing the projected revenue and customer interests.\n",
    "2. How will your solution be used?\n",
    "    - Solution will be used by companies to understand what profits to expect based on various factors.\n",
    "    - Movie lovers can get recommendation of movies based on movies they've seen.\n",
    "3. What are the current solutions/workarounds (if any)?\n",
    "    - Currently no solutions as I'm building from scratch.\n",
    "4. How should you frame this problem (supervised/unsupervised,online/offline, etc.)?\n",
    "    - Supervised and online.\n",
    "5. How should performance be measured?\n",
    "    - For revenue will use rsme.\n",
    "    - For recommender system will figure out a performance measure.\n",
    "6. Is the performance measure aligned with the business objective?\n",
    "    - Yes.\n",
    "7. What would be the minimum performance needed to reach the business objective?\n",
    "    - For revenue a score of 94% is acceptable. \n",
    "    - For recommender system will figure out but something similar to revenue score. \n",
    "8. What are comparable problems? Can you reuse experience or tools?\n",
    "    - Assume none exist.\n",
    "9. Is human expertise available?\n",
    "    - Assume no.\n",
    "10. How would you solve the problem manually?\n",
    "    - For revenue talking to production managers and people in the movie industry.\n",
    "    - For recommendor asking random people what other movies they love after identifying a base of movies they love.\n",
    "11. List the assumptions you (or others) have made so far.\n",
    "    - None identified at this point. \n",
    "12. Verify assumptions if possible.\n",
    "    - None to verify. "
   ]
  },
  {
   "cell_type": "code",
   "execution_count": 1,
   "id": "44f20223",
   "metadata": {},
   "outputs": [],
   "source": [
    "# data exploratory libraries\n",
    "import pandas as pd\n",
    "import numpy as np\n",
    "import matplotlib.pyplot as plt"
   ]
  },
  {
   "cell_type": "code",
   "execution_count": 2,
   "id": "a30f2605",
   "metadata": {},
   "outputs": [],
   "source": [
    "# first import movies_metadata\n",
    "movies = pd.read_csv(\"../../../Data/archive/movies_metadata.csv\", low_memory=False)"
   ]
  },
  {
   "cell_type": "code",
   "execution_count": 3,
   "id": "8f463685",
   "metadata": {},
   "outputs": [],
   "source": [
    "'''\n",
    "Here I sample training data to avoid data snooping. Will use random sampling since \n",
    "there is no feature that forces strata sampling\n",
    "'''\n",
    "from sklearn.model_selection import train_test_split\n",
    "train_set, test_test = train_test_split(movies, test_size=0.2, random_state=48)\n",
    "movies = train_set"
   ]
  },
  {
   "cell_type": "code",
   "execution_count": 4,
   "id": "4646b75b",
   "metadata": {},
   "outputs": [],
   "source": [
    "# to view all of the columns\n",
    "pd.set_option('display.max_columns', None)"
   ]
  },
  {
   "cell_type": "code",
   "execution_count": 5,
   "id": "06805c11",
   "metadata": {},
   "outputs": [
    {
     "name": "stdout",
     "output_type": "stream",
     "text": [
      "<class 'pandas.core.frame.DataFrame'>\n",
      "Index: 36372 entries, 26130 to 15872\n",
      "Data columns (total 24 columns):\n",
      " #   Column                 Non-Null Count  Dtype  \n",
      "---  ------                 --------------  -----  \n",
      " 0   adult                  36372 non-null  object \n",
      " 1   belongs_to_collection  3604 non-null   object \n",
      " 2   budget                 36372 non-null  object \n",
      " 3   genres                 36372 non-null  object \n",
      " 4   homepage               6198 non-null   object \n",
      " 5   id                     36372 non-null  object \n",
      " 6   imdb_id                36356 non-null  object \n",
      " 7   original_language      36365 non-null  object \n",
      " 8   original_title         36372 non-null  object \n",
      " 9   overview               35588 non-null  object \n",
      " 10  popularity             36368 non-null  object \n",
      " 11  poster_path            36060 non-null  object \n",
      " 12  production_companies   36370 non-null  object \n",
      " 13  production_countries   36370 non-null  object \n",
      " 14  release_date           36300 non-null  object \n",
      " 15  revenue                36368 non-null  float64\n",
      " 16  runtime                36159 non-null  float64\n",
      " 17  spoken_languages       36368 non-null  object \n",
      " 18  status                 36303 non-null  object \n",
      " 19  tagline                16316 non-null  object \n",
      " 20  title                  36368 non-null  object \n",
      " 21  video                  36368 non-null  object \n",
      " 22  vote_average           36368 non-null  float64\n",
      " 23  vote_count             36368 non-null  float64\n",
      "dtypes: float64(4), object(20)\n",
      "memory usage: 6.9+ MB\n"
     ]
    }
   ],
   "source": [
    "# checking the size and type of data\n",
    "movies.info()"
   ]
  },
  {
   "cell_type": "markdown",
   "id": "5c2e01be",
   "metadata": {},
   "source": [
    "# Here are the columns with missing data and those without\n",
    "## Columns without missing data\n",
    "    - [adult, budget, genres, id, original_title]\n",
    "## Columns with missing data\n",
    "    - [belongs_to_collection, homepage, imdb_id, original_language, overview, popularity, poster_path, production_companies, production_countries, release_date, revenue, runtime, spoken_languages, status, tagline, title, video, vote_average, vote_count]"
   ]
  },
  {
   "cell_type": "code",
   "execution_count": 6,
   "id": "9ebf8e22",
   "metadata": {},
   "outputs": [],
   "source": [
    "# here the columns are randomly selected as they're easier to work with. \n",
    "# later will devise a method to work with only necessary columns. \n",
    "columns_of_interest = ['adult', 'budget', 'original_language', 'original_title', \n",
    "                       'overview','popularity','release_date', 'revenue', 'runtime',\n",
    "                       'status', 'tagline', 'title', 'video',\n",
    "                       'vote_average', 'vote_count']\n",
    "movies = movies.loc[:,columns_of_interest]"
   ]
  },
  {
   "cell_type": "code",
   "execution_count": 7,
   "id": "c84a0927",
   "metadata": {},
   "outputs": [],
   "source": [
    "# this function is used as there as some entries in budget that can't ...\n",
    "# be converted to numeric type thus this function fills those values with null\n",
    "\n",
    "def convert_budget(budget):\n",
    "    try:\n",
    "        if type(float(budget)) == float:\n",
    "            return budget\n",
    "    except:\n",
    "        return None\n",
    "movies['budget'] = movies['budget'].apply(convert_budget)"
   ]
  },
  {
   "cell_type": "code",
   "execution_count": 8,
   "id": "4dd78ed2",
   "metadata": {},
   "outputs": [],
   "source": [
    "# sets up release_date column for easy conversion\n",
    "def convert_release_date(date):\n",
    "    if type(date) == str:\n",
    "        if len(date) <= 2:\n",
    "            return None\n",
    "        # because the rest have length 10\n",
    "        else:\n",
    "            return date\n",
    "    # because the rest are nan\n",
    "    else:\n",
    "        return None\n",
    "movies['release_date'] = movies['release_date'].apply(convert_release_date)"
   ]
  },
  {
   "cell_type": "code",
   "execution_count": 9,
   "id": "4dd8bff4",
   "metadata": {},
   "outputs": [],
   "source": [
    "# sets up popularity column for easy conversion\n",
    "def convert_popularity(popular):\n",
    "    if type(popular) == str:\n",
    "        return popular\n",
    "    # because rest is nan\n",
    "    else:\n",
    "        return None\n",
    "movies['popularity'] = movies['popularity'].apply(convert_popularity)"
   ]
  },
  {
   "cell_type": "code",
   "execution_count": 10,
   "id": "32da8075",
   "metadata": {},
   "outputs": [],
   "source": [
    "movies = movies.astype({'adult': bool,\n",
    "                        'original_title': str, \n",
    "                        'budget': float,\n",
    "                        'overview': str,\n",
    "                        'popularity': float, \n",
    "                        'revenue': float, \n",
    "                        'runtime': float,\n",
    "                        'status': str,\n",
    "                        'tagline': str, \n",
    "                        'title': str,\n",
    "                        'release_date': 'datetime64[ns]',\n",
    "                        'video': bool,\n",
    "                        'vote_average': float, \n",
    "                        'vote_count': float\n",
    "                       })"
   ]
  },
  {
   "cell_type": "code",
   "execution_count": 11,
   "id": "0c32f9c2",
   "metadata": {},
   "outputs": [
    {
     "name": "stdout",
     "output_type": "stream",
     "text": [
      "<class 'pandas.core.frame.DataFrame'>\n",
      "Index: 36372 entries, 26130 to 15872\n",
      "Data columns (total 15 columns):\n",
      " #   Column             Non-Null Count  Dtype         \n",
      "---  ------             --------------  -----         \n",
      " 0   adult              36372 non-null  bool          \n",
      " 1   budget             36370 non-null  float64       \n",
      " 2   original_language  36365 non-null  object        \n",
      " 3   original_title     36372 non-null  object        \n",
      " 4   overview           36372 non-null  object        \n",
      " 5   popularity         36368 non-null  float64       \n",
      " 6   release_date       36298 non-null  datetime64[ns]\n",
      " 7   revenue            36368 non-null  float64       \n",
      " 8   runtime            36159 non-null  float64       \n",
      " 9   status             36372 non-null  object        \n",
      " 10  tagline            36372 non-null  object        \n",
      " 11  title              36372 non-null  object        \n",
      " 12  video              36372 non-null  bool          \n",
      " 13  vote_average       36368 non-null  float64       \n",
      " 14  vote_count         36368 non-null  float64       \n",
      "dtypes: bool(2), datetime64[ns](1), float64(6), object(6)\n",
      "memory usage: 4.0+ MB\n"
     ]
    }
   ],
   "source": [
    "movies.info()"
   ]
  },
  {
   "cell_type": "code",
   "execution_count": 14,
   "id": "7760a9b8",
   "metadata": {},
   "outputs": [
    {
     "data": {
      "text/html": [
       "<div>\n",
       "<style scoped>\n",
       "    .dataframe tbody tr th:only-of-type {\n",
       "        vertical-align: middle;\n",
       "    }\n",
       "\n",
       "    .dataframe tbody tr th {\n",
       "        vertical-align: top;\n",
       "    }\n",
       "\n",
       "    .dataframe thead th {\n",
       "        text-align: right;\n",
       "    }\n",
       "</style>\n",
       "<table border=\"1\" class=\"dataframe\">\n",
       "  <thead>\n",
       "    <tr style=\"text-align: right;\">\n",
       "      <th></th>\n",
       "      <th>budget</th>\n",
       "      <th>popularity</th>\n",
       "      <th>release_date</th>\n",
       "      <th>revenue</th>\n",
       "      <th>runtime</th>\n",
       "      <th>vote_average</th>\n",
       "      <th>vote_count</th>\n",
       "    </tr>\n",
       "  </thead>\n",
       "  <tbody>\n",
       "    <tr>\n",
       "      <th>count</th>\n",
       "      <td>3.637000e+04</td>\n",
       "      <td>36368.000000</td>\n",
       "      <td>36298</td>\n",
       "      <td>3.636800e+04</td>\n",
       "      <td>36159.000000</td>\n",
       "      <td>36368.000000</td>\n",
       "      <td>36368.000000</td>\n",
       "    </tr>\n",
       "    <tr>\n",
       "      <th>mean</th>\n",
       "      <td>4.250075e+06</td>\n",
       "      <td>2.909196</td>\n",
       "      <td>1992-05-15 15:29:18.443991296</td>\n",
       "      <td>1.116960e+07</td>\n",
       "      <td>94.019718</td>\n",
       "      <td>5.616770</td>\n",
       "      <td>109.167097</td>\n",
       "    </tr>\n",
       "    <tr>\n",
       "      <th>min</th>\n",
       "      <td>0.000000e+00</td>\n",
       "      <td>0.000000</td>\n",
       "      <td>1878-06-14 00:00:00</td>\n",
       "      <td>0.000000e+00</td>\n",
       "      <td>0.000000</td>\n",
       "      <td>0.000000</td>\n",
       "      <td>0.000000</td>\n",
       "    </tr>\n",
       "    <tr>\n",
       "      <th>25%</th>\n",
       "      <td>0.000000e+00</td>\n",
       "      <td>0.384170</td>\n",
       "      <td>1978-10-01 00:00:00</td>\n",
       "      <td>0.000000e+00</td>\n",
       "      <td>85.000000</td>\n",
       "      <td>5.000000</td>\n",
       "      <td>3.000000</td>\n",
       "    </tr>\n",
       "    <tr>\n",
       "      <th>50%</th>\n",
       "      <td>0.000000e+00</td>\n",
       "      <td>1.127023</td>\n",
       "      <td>2001-08-29 12:00:00</td>\n",
       "      <td>0.000000e+00</td>\n",
       "      <td>95.000000</td>\n",
       "      <td>6.000000</td>\n",
       "      <td>10.000000</td>\n",
       "    </tr>\n",
       "    <tr>\n",
       "      <th>75%</th>\n",
       "      <td>0.000000e+00</td>\n",
       "      <td>3.698018</td>\n",
       "      <td>2010-12-22 18:00:00</td>\n",
       "      <td>0.000000e+00</td>\n",
       "      <td>107.000000</td>\n",
       "      <td>6.800000</td>\n",
       "      <td>34.000000</td>\n",
       "    </tr>\n",
       "    <tr>\n",
       "      <th>max</th>\n",
       "      <td>3.800000e+08</td>\n",
       "      <td>294.337037</td>\n",
       "      <td>2020-12-16 00:00:00</td>\n",
       "      <td>2.787965e+09</td>\n",
       "      <td>1256.000000</td>\n",
       "      <td>10.000000</td>\n",
       "      <td>14075.000000</td>\n",
       "    </tr>\n",
       "    <tr>\n",
       "      <th>std</th>\n",
       "      <td>1.739784e+07</td>\n",
       "      <td>5.416907</td>\n",
       "      <td>NaN</td>\n",
       "      <td>6.391748e+07</td>\n",
       "      <td>38.728873</td>\n",
       "      <td>1.923955</td>\n",
       "      <td>485.009043</td>\n",
       "    </tr>\n",
       "  </tbody>\n",
       "</table>\n",
       "</div>"
      ],
      "text/plain": [
       "             budget    popularity                   release_date  \\\n",
       "count  3.637000e+04  36368.000000                          36298   \n",
       "mean   4.250075e+06      2.909196  1992-05-15 15:29:18.443991296   \n",
       "min    0.000000e+00      0.000000            1878-06-14 00:00:00   \n",
       "25%    0.000000e+00      0.384170            1978-10-01 00:00:00   \n",
       "50%    0.000000e+00      1.127023            2001-08-29 12:00:00   \n",
       "75%    0.000000e+00      3.698018            2010-12-22 18:00:00   \n",
       "max    3.800000e+08    294.337037            2020-12-16 00:00:00   \n",
       "std    1.739784e+07      5.416907                            NaN   \n",
       "\n",
       "            revenue       runtime  vote_average    vote_count  \n",
       "count  3.636800e+04  36159.000000  36368.000000  36368.000000  \n",
       "mean   1.116960e+07     94.019718      5.616770    109.167097  \n",
       "min    0.000000e+00      0.000000      0.000000      0.000000  \n",
       "25%    0.000000e+00     85.000000      5.000000      3.000000  \n",
       "50%    0.000000e+00     95.000000      6.000000     10.000000  \n",
       "75%    0.000000e+00    107.000000      6.800000     34.000000  \n",
       "max    2.787965e+09   1256.000000     10.000000  14075.000000  \n",
       "std    6.391748e+07     38.728873      1.923955    485.009043  "
      ]
     },
     "execution_count": 14,
     "metadata": {},
     "output_type": "execute_result"
    }
   ],
   "source": [
    "describe_numeric = movies.describe()\n",
    "describe_numeric"
   ]
  },
  {
   "cell_type": "code",
   "execution_count": 20,
   "id": "c948b44a",
   "metadata": {},
   "outputs": [
    {
     "data": {
      "text/plain": [
       "array([2.30258509, 6.90775528, 3.52636052])"
      ]
     },
     "execution_count": 20,
     "metadata": {},
     "output_type": "execute_result"
    }
   ],
   "source": [
    "arrr = np.array([10, 1000, 34])\n",
    "np.log(arrr)"
   ]
  },
  {
   "cell_type": "code",
   "execution_count": 24,
   "id": "f0a64843",
   "metadata": {},
   "outputs": [
    {
     "data": {
      "text/plain": [
       "Index(['count', 'mean', 'min', '25%', '50%', '75%', 'max', 'std'], dtype='object')"
      ]
     },
     "execution_count": 24,
     "metadata": {},
     "output_type": "execute_result"
    }
   ],
   "source": [
    "describe_numeric"
   ]
  },
  {
   "cell_type": "code",
   "execution_count": 31,
   "id": "f22f38b4",
   "metadata": {},
   "outputs": [
    {
     "name": "stderr",
     "output_type": "stream",
     "text": [
      "C:\\Users\\Admin\\AppData\\Local\\Temp\\ipykernel_7764\\616661945.py:2: RuntimeWarning: overflow encountered in power\n",
      "  arr = np.power(arr, 1000)\n"
     ]
    },
    {
     "data": {
      "text/plain": [
       "<Axes: >"
      ]
     },
     "execution_count": 31,
     "metadata": {},
     "output_type": "execute_result"
    },
    {
     "data": {
      "image/png": "[encoded data removed]",
      "text/plain": [
       "<Figure size 640x480 with 1 Axes>"
      ]
     },
     "metadata": {},
     "output_type": "display_data"
    }
   ],
   "source": [
    "arr = np.array(describe_numeric.drop(\"release_date\", axis=1))\n",
    "arr = np.power(arr, 1000)\n",
    "df = pd.DataFrame(arr, describe_numeric.index)\n",
    "df.plot(kind=\"bar\")"
   ]
  },
  {
   "cell_type": "code",
   "execution_count": null,
   "id": "d5116915",
   "metadata": {},
   "outputs": [],
   "source": [
    "movies.describe(include='object')"
   ]
  },
  {
   "cell_type": "code",
   "execution_count": null,
   "id": "ec732621",
   "metadata": {},
   "outputs": [],
   "source": [
    "movies.head()"
   ]
  },
  {
   "cell_type": "code",
   "execution_count": null,
   "id": "94abcbad",
   "metadata": {},
   "outputs": [],
   "source": [
    "movies.plot(kind=\"scatter\", x=\"budget\", y=\"revenue\")"
   ]
  },
  {
   "cell_type": "code",
   "execution_count": null,
   "id": "6a838b44",
   "metadata": {},
   "outputs": [],
   "source": [
    "movies.plot(kind=\"scatter\", x=\"budget\", y=\"revenue\", alpha=0.1)"
   ]
  },
  {
   "cell_type": "code",
   "execution_count": null,
   "id": "3b5aa5ad",
   "metadata": {},
   "outputs": [],
   "source": [
    "movies.plot(kind=\"scatter\", x=\"budget\", y=\"revenue\", alpha=0.5,\n",
    "            s=\"popularity\", label=\"popularity\", figsize=(10,7),\n",
    "            c=\"vote_average\", cmap=plt.get_cmap(\"jet\"), colorbar=True,\n",
    "           )\n",
    "plt.legend()"
   ]
  },
  {
   "cell_type": "code",
   "execution_count": null,
   "id": "a0e04f00",
   "metadata": {},
   "outputs": [],
   "source": [
    "from pandas.plotting import scatter_matrix\n",
    "\n",
    "num_attributes = [\"budget\", \"popularity\", \"release_date\", \"revenue\", \"runtime\", \"vote_average\", \"vote_count\"]\n",
    "movies_num = movies.loc[:, num_attributes]\n",
    "scatter_matrix(movies_num, figsize=(20,15))"
   ]
  },
  {
   "cell_type": "code",
   "execution_count": null,
   "id": "87047044",
   "metadata": {},
   "outputs": [],
   "source": []
  }
 ],
 "metadata": {
  "kernelspec": {
   "display_name": "Python 3 (ipykernel)",
   "language": "python",
   "name": "python3"
  },
  "language_info": {
   "codemirror_mode": {
    "name": "ipython",
    "version": 3
   },
   "file_extension": ".py",
   "mimetype": "text/x-python",
   "name": "python",
   "nbconvert_exporter": "python",
   "pygments_lexer": "ipython3",
   "version": "3.11.5"
  }
 },
 "nbformat": 4,
 "nbformat_minor": 5
}
