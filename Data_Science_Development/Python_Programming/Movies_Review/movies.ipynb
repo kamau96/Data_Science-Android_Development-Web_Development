{
 "cells": [
  {
   "cell_type": "markdown",
   "id": "bf7728bd",
   "metadata": {},
   "source": [
    "# Below is how I approach the Movie project\n",
    "### 1. Frame the Problem and Look at the Big Picture\n",
    "1. Define the objective in business terms.\n",
    "    - There are two objectives namely:\n",
    "        1. Knowing the projected revenue.\n",
    "        2. Determinig customer interests.\n",
    "2. How will your solution be used?\n",
    "    - By companies trying to understand their profits.\n",
    "    - Movie lovers can get recommendation of movies.\n",
    "3. What are the current solutions/workarounds (if any)?\n",
    "    - Can get data from TMDB and Rotten tomatoes (currently use kaggle data).\n",
    "    - For data analysis and machine learning assume no solutions.\n",
    "4. How should you frame this problem (supervised/unsupervised,online/offline, etc.)?\n",
    "    - Supervised and batch learning.\n",
    "        NB: online learning might be possible. Will experiment at end of project.\n",
    "5. How should performance be measured?\n",
    "    - For revenue predictions RSME will be used.\n",
    "    - For recommender system F1-score will be used.\n",
    "        NB: For both models will experiment other performance measures. \n",
    "6. Is the performance measure aligned with the business objective?\n",
    "    - For current business needs yes.\n",
    "    - However, if this is a real world scenario I believe not.\n",
    "7. What would be the minimum performance needed to reach the business objective?\n",
    "    - For revenue a score of 94% is acceptable. \n",
    "    - For recommender system generating high recall score is preferable. \n",
    "8. What are comparable problems? Can you reuse experience or tools?\n",
    "    - Assume none exist.\n",
    "9. Is human expertise available?\n",
    "    - Assume no.\n",
    "10. How would you solve the problem manually?\n",
    "    - For revenue talking to people in movie industry.\n",
    "    - For recommendor asking random people.\n",
    "11. List the assumptions you (or others) have made so far.\n",
    "    - None identified at this point. \n",
    "12. Verify assumptions if possible.\n",
    "    - None to verify. "
   ]
  },
  {
   "cell_type": "code",
   "execution_count": 1,
   "id": "44f20223",
   "metadata": {},
   "outputs": [],
   "source": [
    "# Deleted all the previous code due to data.\n",
    "# However, decided on using the same data for now.\n",
    "# Fetching my own data a bit hard and will deviate me from main goal.\n",
    "# Below is the python package should I want to use my own data.\n",
    "# https://github.com/celiao/tmdbsimple/blob/master/tmdbsimple/movies.py"
   ]
  },
  {
   "cell_type": "code",
   "execution_count": 2,
   "id": "b8ba7e36",
   "metadata": {},
   "outputs": [],
   "source": [
    "# EDA libraries\n",
    "import pandas as pd\n",
    "import numpy as np\n",
    "import matplotlib.pyplot as plt\n",
    "import seaborn as sns"
   ]
  },
  {
   "cell_type": "code",
   "execution_count": 3,
   "id": "c45ece87",
   "metadata": {},
   "outputs": [],
   "source": [
    "# setting column view maximum\n",
    "pd.set_option(\"display.max_colwidth\", None)"
   ]
  },
  {
   "cell_type": "code",
   "execution_count": 7,
   "id": "8c246c3b",
   "metadata": {},
   "outputs": [],
   "source": [
    "# load data\n",
    "movies=pd.read_csv(\"../../../Data/archive/movies_metadata.csv\", low_memory=False)"
   ]
  },
  {
   "cell_type": "code",
   "execution_count": 8,
   "id": "376c98f0",
   "metadata": {},
   "outputs": [],
   "source": [
    "# seperate data into train and test.\n",
    "# this is to avoid data snooping\n",
    "from sklearn.model_selection import train_test_split\n",
    "train_set, test_set = train_test_split(movies, test_size=0.2, random_state=34)"
   ]
  },
  {
   "cell_type": "code",
   "execution_count": 9,
   "id": "bffa603a",
   "metadata": {},
   "outputs": [],
   "source": [
    "# use train_set for EDA and ML\n",
    "movies = train_set"
   ]
  },
  {
   "cell_type": "code",
   "execution_count": 10,
   "id": "c763778c",
   "metadata": {},
   "outputs": [
    {
     "name": "stdout",
     "output_type": "stream",
     "text": [
      "<class 'pandas.core.frame.DataFrame'>\n",
      "Index: 36372 entries, 36393 to 11681\n",
      "Data columns (total 24 columns):\n",
      " #   Column                 Non-Null Count  Dtype  \n",
      "---  ------                 --------------  -----  \n",
      " 0   adult                  36372 non-null  object \n",
      " 1   belongs_to_collection  3600 non-null   object \n",
      " 2   budget                 36372 non-null  object \n",
      " 3   genres                 36372 non-null  object \n",
      " 4   homepage               6239 non-null   object \n",
      " 5   id                     36372 non-null  object \n",
      " 6   imdb_id                36357 non-null  object \n",
      " 7   original_language      36361 non-null  object \n",
      " 8   original_title         36372 non-null  object \n",
      " 9   overview               35620 non-null  object \n",
      " 10  popularity             36368 non-null  object \n",
      " 11  poster_path            36054 non-null  object \n",
      " 12  production_companies   36370 non-null  object \n",
      " 13  production_countries   36370 non-null  object \n",
      " 14  release_date           36300 non-null  object \n",
      " 15  revenue                36367 non-null  float64\n",
      " 16  runtime                36159 non-null  float64\n",
      " 17  spoken_languages       36367 non-null  object \n",
      " 18  status                 36296 non-null  object \n",
      " 19  tagline                16309 non-null  object \n",
      " 20  title                  36367 non-null  object \n",
      " 21  video                  36367 non-null  object \n",
      " 22  vote_average           36367 non-null  float64\n",
      " 23  vote_count             36367 non-null  float64\n",
      "dtypes: float64(4), object(20)\n",
      "memory usage: 6.9+ MB\n"
     ]
    }
   ],
   "source": [
    "movies.info()"
   ]
  },
  {
   "cell_type": "code",
   "execution_count": 24,
   "id": "2a5e4408",
   "metadata": {},
   "outputs": [],
   "source": [
    "# function to count dtypes per column\n",
    "def count_dtypes(data):\n",
    "    return type(data)"
   ]
  },
  {
   "cell_type": "code",
   "execution_count": 40,
   "id": "0749d531",
   "metadata": {},
   "outputs": [],
   "source": [
    "# function to retrieve columns with differing data types\n",
    "def multi_dtypes_columns(data):\n",
    "    arr = np.array([])\n",
    "    for var in data.columns:\n",
    "        type_count = (data[var].apply(count_dtypes)).value_counts()\n",
    "        if len(type_count) > 1:\n",
    "            arr = np.append(arr, var)\n",
    "    return arr\n",
    "cols = multi_dtypes_columns(movies)"
   ]
  },
  {
   "cell_type": "code",
   "execution_count": 42,
   "id": "7d5c2959",
   "metadata": {},
   "outputs": [
    {
     "name": "stdout",
     "output_type": "stream",
     "text": [
      "<class 'pandas.core.frame.DataFrame'>\n",
      "Index: 36372 entries, 36393 to 11681\n",
      "Data columns (total 15 columns):\n",
      " #   Column                 Non-Null Count  Dtype \n",
      "---  ------                 --------------  ----- \n",
      " 0   belongs_to_collection  3600 non-null   object\n",
      " 1   homepage               6239 non-null   object\n",
      " 2   imdb_id                36357 non-null  object\n",
      " 3   original_language      36361 non-null  object\n",
      " 4   overview               35620 non-null  object\n",
      " 5   popularity             36368 non-null  object\n",
      " 6   poster_path            36054 non-null  object\n",
      " 7   production_companies   36370 non-null  object\n",
      " 8   production_countries   36370 non-null  object\n",
      " 9   release_date           36300 non-null  object\n",
      " 10  spoken_languages       36367 non-null  object\n",
      " 11  status                 36296 non-null  object\n",
      " 12  tagline                16309 non-null  object\n",
      " 13  title                  36367 non-null  object\n",
      " 14  video                  36367 non-null  object\n",
      "dtypes: object(15)\n",
      "memory usage: 4.4+ MB\n"
     ]
    }
   ],
   "source": [
    "diff_col_movies = movies[cols]\n",
    "diff_col_movies.info()"
   ]
  },
  {
   "cell_type": "code",
   "execution_count": null,
   "id": "c35e7e6d",
   "metadata": {},
   "outputs": [],
   "source": [
    "# function "
   ]
  }
 ],
 "metadata": {
  "kernelspec": {
   "display_name": "Python 3 (ipykernel)",
   "language": "python",
   "name": "python3"
  },
  "language_info": {
   "codemirror_mode": {
    "name": "ipython",
    "version": 3
   },
   "file_extension": ".py",
   "mimetype": "text/x-python",
   "name": "python",
   "nbconvert_exporter": "python",
   "pygments_lexer": "ipython3",
   "version": "3.11.5"
  }
 },
 "nbformat": 4,
 "nbformat_minor": 5
}
