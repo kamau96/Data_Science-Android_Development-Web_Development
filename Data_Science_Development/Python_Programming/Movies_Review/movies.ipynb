{
 "cells": [
  {
   "cell_type": "markdown",
   "id": "bf7728bd",
   "metadata": {},
   "source": [
    "# Below is how I approach the Movie project\n",
    "### 1. Frame the Problem and Look at the Big Picture\n",
    "1. Define the objective in business terms.\n",
    "    - There are two objectives namely:\n",
    "        1. Knowing the projected revenue.\n",
    "        2. Determinig customer interests.\n",
    "2. How will your solution be used?\n",
    "    - By companies trying to understand their profits.\n",
    "    - Movie lovers can get recommendation of movies.\n",
    "3. What are the current solutions/workarounds (if any)?\n",
    "    - Can get data from TMDB and Rotten tomatoes (currently use kaggle data).\n",
    "    - For data analysis and machine learning assume no solutions.\n",
    "4. How should you frame this problem (supervised/unsupervised,online/offline, etc.)?\n",
    "    - Supervised and batch learning.\n",
    "        NB: online learning might be possible. Will experiment at end of project.\n",
    "5. How should performance be measured?\n",
    "    - For revenue predictions RSME will be used.\n",
    "    - For recommender system F1-score will be used.\n",
    "        NB: For both models will experiment other performance measures. \n",
    "6. Is the performance measure aligned with the business objective?\n",
    "    - For current business needs yes.\n",
    "    - However, if this is a real world scenario I believe not.\n",
    "7. What would be the minimum performance needed to reach the business objective?\n",
    "    - For revenue a score of 94% is acceptable. \n",
    "    - For recommender system generating high recall score is preferable. \n",
    "8. What are comparable problems? Can you reuse experience or tools?\n",
    "    - Assume none exist.\n",
    "9. Is human expertise available?\n",
    "    - Assume no.\n",
    "10. How would you solve the problem manually?\n",
    "    - For revenue talking to people in movie industry.\n",
    "    - For recommendor asking random people.\n",
    "11. List the assumptions you (or others) have made so far.\n",
    "    - None identified at this point. \n",
    "12. Verify assumptions if possible.\n",
    "    - None to verify. "
   ]
  },
  {
   "cell_type": "code",
   "execution_count": 2,
   "id": "44f20223",
   "metadata": {},
   "outputs": [],
   "source": [
    "# Deleted all the previous code due to data.\n",
    "# However, decided on using the same data for now.\n",
    "# Fetching my own data a bit hard and will deviate me from main goal.\n",
    "# Below is the python package should I want to use my own data.\n",
    "# https://github.com/celiao/tmdbsimple/blob/master/tmdbsimple/movies.py"
   ]
  },
  {
   "cell_type": "code",
   "execution_count": 4,
   "id": "b8ba7e36",
   "metadata": {},
   "outputs": [],
   "source": [
    "# EDA libraries\n",
    "import pandas as pd\n",
    "import numpy as np\n",
    "import matplotlib.pyplot as plt\n",
    "import seaborn as sns"
   ]
  },
  {
   "cell_type": "code",
   "execution_count": null,
   "id": "c45ece87",
   "metadata": {},
   "outputs": [],
   "source": [
    "# setting column view maximum\n",
    "pd.set_option(\"\")"
   ]
  }
 ],
 "metadata": {
  "kernelspec": {
   "display_name": "Python 3 (ipykernel)",
   "language": "python",
   "name": "python3"
  },
  "language_info": {
   "codemirror_mode": {
    "name": "ipython",
    "version": 3
   },
   "file_extension": ".py",
   "mimetype": "text/x-python",
   "name": "python",
   "nbconvert_exporter": "python",
   "pygments_lexer": "ipython3",
   "version": "3.11.5"
  }
 },
 "nbformat": 4,
 "nbformat_minor": 5
}
